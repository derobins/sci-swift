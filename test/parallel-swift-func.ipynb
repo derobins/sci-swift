{
 "cells": [
  {
   "cell_type": "code",
   "execution_count": 284,
   "metadata": {
    "collapsed": false
   },
   "outputs": [],
   "source": [
    "#HDF5 Swift VOL in Python\n",
    "#Aug 22 2018\n",
    "#Jialin Liu\n",
    "#LBNL/NERSC\n",
    "import numpy,sys\n",
    "import h5py # added for test\n",
    "def Takesecond(elem):\n",
    "    return elem[1]\n",
    "\n",
    "def Takefirst(elem):\n",
    "    return elem[0]\n",
    "class H5PVol:\n",
    "    '''\n",
    "    Dictionary for various h5py objects, e.g., groups, datasets, links, etc.\n",
    "    starting obj is reserved for HDF5 file handle, with index 0 as its key\n",
    "    {0:hdf5_handle, ...}\n",
    "    '''\n",
    "    def H5VL_python_dstobj_scan(self, obj_id, global_meta, meta_offlen, req):\n",
    "        #try:\n",
    "            #dst_parent_obj=self.obj_list[obj_id]\n",
    "            #z = dst_parent_obj.replace(\"/\",\"\\\\\")\n",
    "            #dst_container_name=z[:z.find(z.split('\\\\')[-1])-1]\n",
    "            #dst_object_name=z.split('\\\\')[-1]\n",
    "            #print ('dset name: %s'%dset_object_name)\n",
    "            #print ('global metadata:',global_meta)\n",
    "            #print ('metadata offlens:',meta_offlen)\n",
    "        #except Exception as e:\n",
    "        #    pass\n",
    "        dst_object_name = obj_id # added for test\n",
    "        object_mappings, meta_offlen_list = self.Meta_to_Object_Mappings(global_meta, meta_offlen)\n",
    "        object_selected = self.Object_Binary_Search(object_mappings, meta_offlen_list) # object_selected = {'offset, len':[objid, offset, length, off_in_obj, start_off_in_file, end_off_in_file]}\n",
    "        #compare start_off_in_file with offset in object_mappings and off_in_obj in object_mappings to get the start_off_in_obj\n",
    "        print ('object selected:')\n",
    "        for x in object_selected.keys():\n",
    "            for y in object_selected[x]:\n",
    "                print (x, y)\n",
    "        print(\"objid, offset, length, off_in_obj, start_off_in_file, end_off_in_file\")\n",
    "        print ('reading objid:%s, dst_object_name:%s now'%(obj_id,dst_object_name))\n",
    "        con_data = self.dst_oneshot_io(object_selected,obj_id, dst_object_name)\n",
    "        #con_data=1\n",
    "        return object_selected,con_data\n",
    "        #return con_data\n",
    "    \n",
    "    def Dataset_object_internal_read(self, obj_id, dstobj_name):\n",
    "        \"\"\"\n",
    "        Python wrapper for H5VL_dataset_read, return numpy array, interperated as object in C\n",
    "\n",
    "        Input:\n",
    "            same with H5VL_python_dataset_read at C layer\n",
    "        Output:\n",
    "            numpy array\n",
    "        \"\"\"\n",
    "        try:\n",
    "            #dst_parent_obj=self.obj_list[obj_id]\n",
    "            #z = dst_parent_obj.replace(\"/\",\"\\\\\")\n",
    "            #dst_container_name=z[:z.find(z.split('\\\\')[-1])-1]\n",
    "            #dst_object_name=z.split('\\\\')[-1]\n",
    "            #if dstobj_name not in dst_object_name:\n",
    "            #    print ('%s not consistent with %s'%(dstobj_name,dst_object_name))\n",
    "            print ('Reading:%s'%dstobj_name) # added for test\n",
    "            #assert(obj_id==dstobj_name) #added for test\n",
    "            try:\n",
    "                '''\n",
    "                    buf[:] = dst_parent_obj[:] # TODO: make sure memcopy free\n",
    "                    print (\"passed in buffer has shape:,\",buf.shape)\n",
    "                            print (\"data to be returned has shape:,\",dst_parent_obj)\n",
    "                        buf[:] = dst_parent_obj[:]\n",
    "                        Direct read from HDF5 file into numpy array\n",
    "                        print (buf)\n",
    "                        print (buf.flags)\n",
    "                    '''\n",
    "                #metadata = swift_metadata_get(container=dst_container_name,sciobj_name=dstobj_name)\n",
    "                #curtype=str(metadata['type'])\n",
    "                #x=swift_object_download(container=dst_container_name, sciobj_name=dstobj_name,dtype=curtype)\n",
    "                curtype='int32' # added for test\n",
    "                f=h5py.File('swift_3.h5','r') #added for test\n",
    "                x=f[dstobj_name][:] #added for test\n",
    "                print ('x is ',x)\n",
    "                return x\n",
    "            except Exception as e:\n",
    "                print ('dataset read in python failed with error: ',e)\n",
    "        except Exception as e:\n",
    "            print ('retrieve obj failed in internal read:',e)\n",
    "            return -1\n",
    "\n",
    "    def dst_oneshot_io(self, objsel, obj_id,dstparent):\n",
    "        obj_data={} # record the data that has completed I/O, so no need to read again\n",
    "        all_objs ={v[0] for k in objsel.keys() for v in objsel[k]}\n",
    "                \n",
    "        all_objs = list(set(all_objs))\n",
    "        print ('before sorting:',all_objs)\n",
    "        all_objs.sort()\n",
    "        print ('after sorting:',all_objs)\n",
    "        #Read in all data\n",
    "        \n",
    "        print ('needed objects: ',all_objs)\n",
    "        for iobj in all_objs:\n",
    "            dstname = dstparent + '_' + str(iobj)\n",
    "            if dstname not in obj_data:\n",
    "                print ('data is not yet loaded')\n",
    "                #not read yet, start I/O here\n",
    "                ddt = self.Dataset_object_internal_read(obj_id, dstname)\n",
    "                print ('data loaded:',ddt)\n",
    "                obj_data[dstname] = ddt\n",
    "            else:\n",
    "                print ('data is already loaded into memory')\n",
    "        #Construct a contiguous array\n",
    "        data = numpy.empty(shape=(0))\n",
    "        for ol in objsel.keys():\n",
    "            print ('ol is: ',ol)\n",
    "            meta_list = objsel[ol]\n",
    "            for k in range(len(meta_list)):\n",
    "                cur_meta =  meta_list[k]\n",
    "                cur_obj = obj_data[dstparent+'_'+str(cur_meta[0])] # get object data by objectid i.e., offset\n",
    "                data_start = cur_meta[3] #-cur_meta[1]\n",
    "                data_length = cur_meta[5] - cur_meta[4] +1\n",
    "                data_cur = cur_obj[data_start:(data_start + data_length)]\n",
    "                if data.size ==0:\n",
    "                    data = data_cur\n",
    "                else:\n",
    "                    data = numpy.append(data, data_cur)\n",
    "        return data\n",
    "    \n",
    "\n",
    "    \n",
    "    def Meta_to_Object_Mappings(self, global_meta, meta_offlen):\n",
    "\n",
    "    #:param global_meta:\n",
    "    #:return: object_mapping dictionary, [objid, offset, length, off_in_obj]\n",
    "    # obj_name=dset_object_name+'_'+ str(ol[0]) # dset object name with offset as uinque tag\n",
    "        i = 3 # Skip first three elements, which is total length of this array, min offset, max offset.\n",
    "        object_mappings = list()\n",
    "        number_obj = 0\n",
    "        while i < global_meta[0]:\n",
    "            cur_seq_len = global_meta[i]\n",
    "            j = i + 3  # points j to the first (offset, length) pair\n",
    "            cur_seq_len -= 3  # removed min and max offset\n",
    "            off_in_obj=0\n",
    "            #print('i is:%d'%i)\n",
    "            while (cur_seq_len > 0):  # append other offset lengths\n",
    "                ol = [global_meta[i +1], global_meta[j], global_meta[j + 1],off_in_obj]\n",
    "                off_in_obj+=global_meta[j+1] # calculate the offset of next byte sequence within the object\n",
    "                cur_seq_len -= 2\n",
    "                #print ('ith ele in gmeta:%d, objid:%d, off:%d, len:%d, off_inobj:%d'%(i,ol[0],ol[1],ol[2],ol[3]))\n",
    "                #print('cur_seq_len is now:%d'%cur_seq_len)\n",
    "                j+=2\n",
    "                object_mappings.append(ol)\n",
    "            i = i + global_meta[i] # jump to next object\n",
    "            number_obj +=1\n",
    "        #assert (number_obj == len(object_mappings))\n",
    "        print ('number of objects:%d'%number_obj) # added for test\n",
    "        object_mappings.sort(key=Takesecond) # sort list by offset\n",
    "        print ('sorted global off/len pair:',object_mappings) # added for test\n",
    "        len_mt = meta_offlen[0]\n",
    "        meta_offlens =list()\n",
    "        i=1\n",
    "        while i < len_mt:\n",
    "            ol=[meta_offlen[i],meta_offlen[i+1]]\n",
    "            #print ('i:%d ol is:%s'%(i,ol))\n",
    "            i+=2\n",
    "            meta_offlens.append(ol)\n",
    "        meta_offlens.sort(key=Takefirst)\n",
    "        print ('sorted local off/len pairs:',meta_offlens)\n",
    "        return object_mappings,meta_offlens\n",
    "\n",
    "    def Object_Binary_Search(self, object_mappings, meta_offlen):\n",
    "        object_selected ={}\n",
    "        l=0\n",
    "        r=len(object_mappings)-1\n",
    "        for imeta in meta_offlen:\n",
    "            #print ('now searching:',imeta)\n",
    "            object_selected[imeta[0]] = self.obj_binary_search(object_mappings,l,r, imeta)\n",
    "            #print ('searched result:',object_selected[imeta[0]])\n",
    "        #print ('selected objects:',object_selected) #added for test\n",
    "        return object_selected\n",
    "\n",
    "    def obj_binary_search(self, objm, l, r, imeta):\n",
    "        if(r>=l):\n",
    "            mid = int(l + (r-l)/2)\n",
    "            olap = self.obj_overlap(objm[mid], imeta)\n",
    "            if(olap==0):\n",
    "                print('overlaping detected for %s'%imeta)\n",
    "                return self.obj_following(objm,mid,imeta)\n",
    "            elif(olap ==-1):\n",
    "                #print('looking left for %s'%imeta)\n",
    "                return self.obj_binary_search(objm, l, mid-1, imeta)\n",
    "            elif(olap == 1):\n",
    "                #print('looking right for %s'%imeta)\n",
    "                return self.obj_binary_search(objm, mid+1, r, imeta)\n",
    "\n",
    "    def obj_overlap(self, objm, imeta):\n",
    "        objm_l = objm[1]\n",
    "\n",
    "        objm_r = objm[2] + objm_l -1\n",
    "        #print ('checking overlap b.w. imeta: %s v.s. gmeta: [%d,%d]'%(imeta,objm_l,objm_r))\n",
    "        imeta_l = imeta[0]\n",
    "        imeta_r = imeta_l + imeta[1] - 1\n",
    "        # case 1: -----\n",
    "        #        --------\n",
    "        if (objm_l >= imeta_l and objm_r <= imeta_r):\n",
    "            #print ('case 1')\n",
    "            return 0\n",
    "        # case 2: ------\n",
    "        #           ----\n",
    "        elif (objm_l <= imeta_l and objm_r >= imeta_l):\n",
    "            #print ('case 2')\n",
    "            return 0\n",
    "        # case 3:   ------\n",
    "        #        ------\n",
    "        elif (objm_l >= imeta_l and objm_l <= imeta_r):\n",
    "            #print('case 3')\n",
    "            return 0\n",
    "        elif(objm_r < imeta_l):\n",
    "            #print('on the left')\n",
    "            return 1\n",
    "        elif(objm_l > imeta_r):\n",
    "            #print('on the right')\n",
    "            return -1\n",
    "        else:\n",
    "            print('not sure')\n",
    "    \n",
    "    def obj_following(self, objm, found_index, imeta):\n",
    "        result=list()\n",
    "        imeta_offset_min = imeta[0]\n",
    "        imeta_offset_max = imeta[1] + imeta_offset_min - 1\n",
    "        #print('found index:%d'%found_index)\n",
    "        #print ('before appending, found:',objm[found_index])\n",
    "        objm_rich = numpy.append(objm[found_index], max(imeta_offset_min, objm[found_index][1]))\n",
    "        #objm_rich = objm_rich.append(min(imeta_offset_max, objm[found_index][1]+objm[found_index][2]-1))\n",
    "        objm_rich = numpy.append(objm_rich, min(imeta_offset_max, objm[found_index][1]+objm[found_index][2]-1))\n",
    "        #print ('appending:',objm_rich)\n",
    "        result.append(objm_rich)\n",
    "        #search on left\n",
    "        left_start = found_index-1\n",
    "        right_start = found_index+1\n",
    "        while(left_start>=0):\n",
    "            #print('looking left now')\n",
    "            if(self.obj_overlap(objm[left_start],imeta) == 0 ):\n",
    "                objm_rich = numpy.append(objm[left_start], min(imeta_offset_min, objm[left_start][1]))\n",
    "                #objm_rich = objm_rich.append(min(imeta_offset_max, objm[left_start][1]+objm[left_start][2]-1))\n",
    "                objm_rich = numpy.append(objm_rich, min(imeta_offset_max, objm[left_start][1]+objm[left_start][2]-1))\n",
    "                #print ('inserting:',objm_rich)\n",
    "                result.insert(0,objm_rich)\n",
    "                left_start -= 1\n",
    "            else:\n",
    "                break\n",
    "        #search on the right\n",
    "        while(right_start<len(objm)):\n",
    "            #print('looking right now')\n",
    "            if(self.obj_overlap(objm[right_start],imeta) == 0):\n",
    "                objm_rich = numpy.append(objm[right_start], min(imeta_offset_min, objm[right_start][1]))\n",
    "                #objm_rich = objm_rich.append(min(imeta_offset_max, objm[right_start][1]+objm[right_start][2]-1))\n",
    "                objm_rich = numpy.append(objm_rich, min(imeta_offset_max, objm[right_start][1]+objm[right_start][2]-1))\n",
    "                #print ('appending:',objm_rich)\n",
    "                result.append(objm_rich)\n",
    "                right_start += 1\n",
    "            else:\n",
    "                break\n",
    "        return result"
   ]
  },
  {
   "cell_type": "markdown",
   "metadata": {},
   "source": [
    "## generate fake data blocks"
   ]
  },
  {
   "cell_type": "code",
   "execution_count": 283,
   "metadata": {
    "collapsed": false
   },
   "outputs": [],
   "source": [
    "import h5py,numpy\n",
    "fx=h5py.File('swift_3.h5','a')\n",
    "dx = numpy.arange(100)\n",
    "obj_off=[0,25,30,60]\n",
    "obj_len=[25,5,20,21]\n",
    "for i in range(len(obj_off)):\n",
    "    dx=numpy.arange(obj_len[i])\n",
    "    dt = fx.create_dataset('dst1'+'_'+str(obj_off[i]),data=dx,dtype='int32')\n",
    "fx.close()"
   ]
  },
  {
   "cell_type": "code",
   "execution_count": 285,
   "metadata": {
    "collapsed": true
   },
   "outputs": [],
   "source": [
    "obj_id='dst1'\n",
    "#len, min_off, max_off\n",
    "#len, min_off, max_off, off0,len0, off1,len1, ...\n",
    "#ex: obj_0: [0,4], [5, 24]\n",
    "#    obj_25: [25], [26, 27], [28, 29]\n",
    "#    obj_30: [30,34], [42,51], [55,57], [58,59]\n",
    "#    obj_60: [60,80]\n",
    "global_meta=[35,0,80, 7,0,24,0,5,5,20, 11,30,59,30,5,42,10,55,3,58,2,  9,25,29,25,1,26,2,28,2, 5,60,80,60,21]\n",
    "meta_offlen=[15, 3, 5, 10, 12, 30, 5, 42, 8, 55, 10, 65, 7, 73, 8]\n",
    "# [3,7],[10,21], [30,34], [42, 49], [55, 64], [65, 71], [73, 80]"
   ]
  },
  {
   "cell_type": "code",
   "execution_count": 286,
   "metadata": {
    "collapsed": false
   },
   "outputs": [],
   "source": [
    "swift_tt =  H5PVol()"
   ]
  },
  {
   "cell_type": "code",
   "execution_count": 287,
   "metadata": {
    "collapsed": false
   },
   "outputs": [
    {
     "name": "stdout",
     "output_type": "stream",
     "text": [
      "number of objects:4\n",
      "sorted global off/len pair: [[0, 0, 5, 0], [0, 5, 20, 5], [25, 25, 1, 0], [25, 26, 2, 1], [25, 28, 2, 3], [30, 30, 5, 0], [30, 42, 10, 5], [30, 55, 3, 15], [30, 58, 2, 18], [60, 60, 21, 0]]\n",
      "sorted local off/len pairs: [[3, 5], [10, 12], [30, 5], [42, 8], [55, 10], [65, 7], [73, 8]]\n",
      "overlaping detected for [3, 5]\n",
      "overlaping detected for [10, 12]\n",
      "overlaping detected for [30, 5]\n",
      "overlaping detected for [42, 8]\n",
      "overlaping detected for [55, 10]\n",
      "overlaping detected for [65, 7]\n",
      "overlaping detected for [73, 8]\n",
      "object selected:\n",
      "3 [0 0 5 0 0 4]\n",
      "3 [ 0  5 20  5  5  7]\n",
      "10 [ 0  5 20  5 10 21]\n",
      "30 [30 30  5  0 30 34]\n",
      "42 [30 42 10  5 42 49]\n",
      "55 [30 55  3 15 55 57]\n",
      "55 [30 58  2 18 55 59]\n",
      "55 [60 60 21  0 55 64]\n",
      "65 [60 60 21  0 65 71]\n",
      "73 [60 60 21  0 73 80]\n",
      "objid, offset, length, off_in_obj, start_off_in_file, end_off_in_file\n",
      "reading objid:dst1, dst_object_name:dst1 now\n",
      "before sorting: [0, 60, 30]\n",
      "after sorting: [0, 30, 60]\n",
      "needed objects:  [0, 30, 60]\n",
      "data is not yet loaded\n",
      "Reading:dst1_0\n",
      "x is  [ 0  1  2  3  4  5  6  7  8  9 10 11 12 13 14 15 16 17 18 19 20 21 22 23 24]\n",
      "data loaded: [ 0  1  2  3  4  5  6  7  8  9 10 11 12 13 14 15 16 17 18 19 20 21 22 23 24]\n",
      "data is not yet loaded\n",
      "Reading:dst1_30\n",
      "x is  [ 0  1  2  3  4  5  6  7  8  9 10 11 12 13 14 15 16 17 18 19]\n",
      "data loaded: [ 0  1  2  3  4  5  6  7  8  9 10 11 12 13 14 15 16 17 18 19]\n",
      "data is not yet loaded\n",
      "Reading:dst1_60\n",
      "x is  [ 0  1  2  3  4  5  6  7  8  9 10 11 12 13 14 15 16 17 18 19 20]\n",
      "data loaded: [ 0  1  2  3  4  5  6  7  8  9 10 11 12 13 14 15 16 17 18 19 20]\n",
      "ol is:  3\n",
      "ol is:  10\n",
      "ol is:  30\n",
      "ol is:  42\n",
      "ol is:  55\n",
      "ol is:  65\n",
      "ol is:  73\n"
     ]
    }
   ],
   "source": [
    "olselect,dt=swift_tt.H5VL_python_dstobj_scan(obj_id=obj_id, global_meta=global_meta, meta_offlen=meta_offlen, req=0)"
   ]
  },
  {
   "cell_type": "code",
   "execution_count": 193,
   "metadata": {
    "collapsed": true
   },
   "outputs": [],
   "source": [
    "global_meta=[35,0,80, 7,0,24,0,5,5,20, 11,30,59,30,5,42,10,55,3,58,2,  9,25,29,25,1,26,2,28,2, 5,60,80,60,21]\n",
    "meta_offlen=[17, 3, 5, 10, 12, 30, 5, 42, 8, 55, 10, 65, 7, 73, 8, 26, 3]\n",
    "#ex: obj_0: [0,4], [5, 24]\n",
    "#    obj_25: [25], [26, 27], [28, 29]\n",
    "#    obj_30: [30,34], [42,51], [55,57], [58,59]\n",
    "#    obj_60: [60,80]\n",
    "# [3,7],[10,21], [30,34], [42, 49], [55, 64], [65, 71], [73, 80], [26, 28]"
   ]
  },
  {
   "cell_type": "code",
   "execution_count": 195,
   "metadata": {
    "collapsed": false
   },
   "outputs": [
    {
     "name": "stdout",
     "output_type": "stream",
     "text": [
      "number of objects:4\n",
      "sorted global off/len pair: [[0, 0, 5, 0], [0, 5, 20, 5], [25, 25, 1, 0], [25, 26, 2, 1], [25, 28, 2, 3], [30, 30, 5, 0], [30, 42, 10, 5], [30, 55, 3, 15], [30, 58, 2, 18], [60, 60, 21, 0]]\n",
      "sorted local off/len pairs: [[3, 5], [10, 12], [26, 3], [30, 5], [42, 8], [55, 10], [65, 7], [73, 8]]\n",
      "overlaping detected for [3, 5]\n",
      "overlaping detected for [10, 12]\n",
      "overlaping detected for [26, 3]\n",
      "overlaping detected for [30, 5]\n",
      "overlaping detected for [42, 8]\n",
      "overlaping detected for [55, 10]\n",
      "overlaping detected for [65, 7]\n",
      "overlaping detected for [73, 8]\n",
      "object selected:\n",
      "3 [0 0 5 0 0 4]\n",
      "3 [ 0  5 20  5  5  7]\n",
      "10 [ 0  5 20  5 10 21]\n",
      "26 [25 26  2  1 26 27]\n",
      "26 [25 28  2  3 28 28]\n",
      "30 [30 30  5  0 30 34]\n",
      "42 [30 42 10  5 42 49]\n",
      "55 [30 55  3 15 55 57]\n",
      "55 [30 58  2 18 55 59]\n",
      "55 [60 60 21  0 55 64]\n",
      "65 [60 60 21  0 65 71]\n",
      "73 [60 60 21  0 73 80]\n",
      "objid, offset, length, off_in_obj, start_off_in_file, end_off_in_file\n"
     ]
    }
   ],
   "source": [
    "olselect1,dt1=swift_tt.H5VL_python_dstobj_scan(obj_id=obj_id, global_meta=global_meta, meta_offlen=meta_offlen, req=0)"
   ]
  },
  {
   "cell_type": "code",
   "execution_count": 219,
   "metadata": {
    "collapsed": false
   },
   "outputs": [],
   "source": [
    "all_objs ={v[0] for k in olselect.keys() for v in olselect[k]}"
   ]
  },
  {
   "cell_type": "code",
   "execution_count": 220,
   "metadata": {
    "collapsed": false
   },
   "outputs": [
    {
     "data": {
      "text/plain": [
       "{0, 30, 60}"
      ]
     },
     "execution_count": 220,
     "metadata": {},
     "output_type": "execute_result"
    }
   ],
   "source": [
    "all_objs"
   ]
  },
  {
   "cell_type": "code",
   "execution_count": 288,
   "metadata": {
    "collapsed": false
   },
   "outputs": [
    {
     "data": {
      "text/plain": [
       "{3: [array([0, 0, 5, 0, 0, 4]), array([ 0,  5, 20,  5,  5,  7])],\n",
       " 10: [array([ 0,  5, 20,  5, 10, 21])],\n",
       " 30: [array([30, 30,  5,  0, 30, 34])],\n",
       " 42: [array([30, 42, 10,  5, 42, 49])],\n",
       " 55: [array([30, 55,  3, 15, 55, 57]),\n",
       "  array([30, 58,  2, 18, 55, 59]),\n",
       "  array([60, 60, 21,  0, 55, 64])],\n",
       " 65: [array([60, 60, 21,  0, 65, 71])],\n",
       " 73: [array([60, 60, 21,  0, 73, 80])]}"
      ]
     },
     "execution_count": 288,
     "metadata": {},
     "output_type": "execute_result"
    }
   ],
   "source": [
    "olselect"
   ]
  },
  {
   "cell_type": "code",
   "execution_count": 289,
   "metadata": {
    "collapsed": false
   },
   "outputs": [
    {
     "data": {
      "text/plain": [
       "array([ 0,  1,  2,  3,  4,  5,  6,  7,  5,  6,  7,  8,  9, 10, 11, 12, 13,\n",
       "       14, 15, 16,  0,  1,  2,  3,  4,  5,  6,  7,  8,  9, 10, 11, 12, 15,\n",
       "       16, 17, 18, 19,  0,  1,  2,  3,  4,  5,  6,  7,  8,  9,  0,  1,  2,\n",
       "        3,  4,  5,  6,  0,  1,  2,  3,  4,  5,  6,  7], dtype=int32)"
      ]
     },
     "execution_count": 289,
     "metadata": {},
     "output_type": "execute_result"
    }
   ],
   "source": [
    "dt"
   ]
  },
  {
   "cell_type": "code",
   "execution_count": null,
   "metadata": {
    "collapsed": true
   },
   "outputs": [],
   "source": []
  },
  {
   "cell_type": "code",
   "execution_count": null,
   "metadata": {
    "collapsed": true
   },
   "outputs": [],
   "source": []
  },
  {
   "cell_type": "code",
   "execution_count": null,
   "metadata": {
    "collapsed": true
   },
   "outputs": [],
   "source": []
  },
  {
   "cell_type": "code",
   "execution_count": null,
   "metadata": {
    "collapsed": true
   },
   "outputs": [],
   "source": []
  }
 ],
 "metadata": {
  "kernelspec": {
   "display_name": "Python 3",
   "language": "python",
   "name": "python3"
  },
  "language_info": {
   "codemirror_mode": {
    "name": "ipython",
    "version": 3
   },
   "file_extension": ".py",
   "mimetype": "text/x-python",
   "name": "python",
   "nbconvert_exporter": "python",
   "pygments_lexer": "ipython3",
   "version": "3.6.0"
  }
 },
 "nbformat": 4,
 "nbformat_minor": 2
}
